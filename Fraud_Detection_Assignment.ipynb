{
 "cells": [
  {
   "cell_type": "markdown",
   "id": "afee90ba",
   "metadata": {},
   "source": [
    "## Step 1 – Install Required Libraries (run only once)"
   ]
  },
  {
   "cell_type": "code",
   "execution_count": 1,
   "id": "7cf00ccf",
   "metadata": {},
   "outputs": [
    {
     "name": "stdout",
     "output_type": "stream",
     "text": [
      "Requirement already satisfied: lightgbm in c:\\users\\asus\\appdata\\local\\programs\\python\\python313\\lib\\site-packages (3.3.5)\n",
      "Requirement already satisfied: imbalanced-learn in c:\\users\\asus\\appdata\\local\\programs\\python\\python313\\lib\\site-packages (0.13.0)\n",
      "Requirement already satisfied: shap in c:\\users\\asus\\appdata\\local\\programs\\python\\python313\\lib\\site-packages (0.48.0)\n",
      "Requirement already satisfied: wheel in c:\\users\\asus\\appdata\\local\\programs\\python\\python313\\lib\\site-packages (from lightgbm) (0.45.1)\n",
      "Requirement already satisfied: numpy in c:\\users\\asus\\appdata\\local\\programs\\python\\python313\\lib\\site-packages (from lightgbm) (2.2.5)\n",
      "Requirement already satisfied: scipy in c:\\users\\asus\\appdata\\local\\programs\\python\\python313\\lib\\site-packages (from lightgbm) (1.15.2)\n",
      "Requirement already satisfied: scikit-learn!=0.22.0 in c:\\users\\asus\\appdata\\local\\programs\\python\\python313\\lib\\site-packages (from lightgbm) (1.6.1)\n",
      "Requirement already satisfied: sklearn-compat<1,>=0.1 in c:\\users\\asus\\appdata\\local\\programs\\python\\python313\\lib\\site-packages (from imbalanced-learn) (0.1.3)\n",
      "Requirement already satisfied: joblib<2,>=1.1.1 in c:\\users\\asus\\appdata\\local\\programs\\python\\python313\\lib\\site-packages (from imbalanced-learn) (1.4.2)\n",
      "Requirement already satisfied: threadpoolctl<4,>=2.0.0 in c:\\users\\asus\\appdata\\local\\programs\\python\\python313\\lib\\site-packages (from imbalanced-learn) (3.6.0)\n",
      "Requirement already satisfied: pandas in c:\\users\\asus\\appdata\\local\\programs\\python\\python313\\lib\\site-packages (from shap) (2.2.3)\n",
      "Requirement already satisfied: tqdm>=4.27.0 in c:\\users\\asus\\appdata\\local\\programs\\python\\python313\\lib\\site-packages (from shap) (4.67.1)\n",
      "Requirement already satisfied: packaging>20.9 in c:\\users\\asus\\appdata\\local\\programs\\python\\python313\\lib\\site-packages (from shap) (24.2)\n",
      "Requirement already satisfied: slicer==0.0.8 in c:\\users\\asus\\appdata\\local\\programs\\python\\python313\\lib\\site-packages (from shap) (0.0.8)\n",
      "Requirement already satisfied: numba>=0.54 in c:\\users\\asus\\appdata\\local\\programs\\python\\python313\\lib\\site-packages (from shap) (0.61.2)\n",
      "Requirement already satisfied: cloudpickle in c:\\users\\asus\\appdata\\local\\programs\\python\\python313\\lib\\site-packages (from shap) (3.1.1)\n",
      "Requirement already satisfied: typing-extensions in c:\\users\\asus\\appdata\\local\\programs\\python\\python313\\lib\\site-packages (from shap) (4.13.2)\n",
      "Requirement already satisfied: llvmlite<0.45,>=0.44.0dev0 in c:\\users\\asus\\appdata\\local\\programs\\python\\python313\\lib\\site-packages (from numba>=0.54->shap) (0.44.0)\n",
      "Requirement already satisfied: colorama in c:\\users\\asus\\appdata\\local\\programs\\python\\python313\\lib\\site-packages (from tqdm>=4.27.0->shap) (0.4.6)\n",
      "Requirement already satisfied: python-dateutil>=2.8.2 in c:\\users\\asus\\appdata\\local\\programs\\python\\python313\\lib\\site-packages (from pandas->shap) (2.9.0.post0)\n",
      "Requirement already satisfied: pytz>=2020.1 in c:\\users\\asus\\appdata\\local\\programs\\python\\python313\\lib\\site-packages (from pandas->shap) (2025.2)\n",
      "Requirement already satisfied: tzdata>=2022.7 in c:\\users\\asus\\appdata\\local\\programs\\python\\python313\\lib\\site-packages (from pandas->shap) (2025.2)\n",
      "Requirement already satisfied: six>=1.5 in c:\\users\\asus\\appdata\\local\\programs\\python\\python313\\lib\\site-packages (from python-dateutil>=2.8.2->pandas->shap) (1.17.0)\n"
     ]
    }
   ],
   "source": [
    "!pip install lightgbm imbalanced-learn shap\n",
    "# Expected: installs packages, no output except install logs\n"
   ]
  },
  {
   "cell_type": "markdown",
   "id": "29910e66",
   "metadata": {},
   "source": [
    "## Step 2 – Load Dataset Sample"
   ]
  },
  {
   "cell_type": "code",
   "execution_count": 2,
   "id": "8e491e76",
   "metadata": {},
   "outputs": [
    {
     "data": {
      "text/plain": [
       "(1000000, 11)"
      ]
     },
     "execution_count": 2,
     "metadata": {},
     "output_type": "execute_result"
    }
   ],
   "source": [
    "import pandas as pd\n",
    "\n",
    "DATA_PATH = \"Fraud.csv\"   # Make sure the file is in the same folder as this notebook\n",
    "SAMPLE_N = 1_000_000      # Adjust if RAM is limited\n",
    "\n",
    "df = pd.read_csv(DATA_PATH, nrows=SAMPLE_N)\n",
    "df.shape\n",
    "# Expected sample output: (1000000, 11)\n"
   ]
  },
  {
   "cell_type": "markdown",
   "id": "626b46c7",
   "metadata": {},
   "source": [
    "## Step 3 – Feature Engineering"
   ]
  },
  {
   "cell_type": "code",
   "execution_count": 3,
   "id": "461f7399",
   "metadata": {},
   "outputs": [
    {
     "data": {
      "text/html": [
       "<div>\n",
       "<style scoped>\n",
       "    .dataframe tbody tr th:only-of-type {\n",
       "        vertical-align: middle;\n",
       "    }\n",
       "\n",
       "    .dataframe tbody tr th {\n",
       "        vertical-align: top;\n",
       "    }\n",
       "\n",
       "    .dataframe thead th {\n",
       "        text-align: right;\n",
       "    }\n",
       "</style>\n",
       "<table border=\"1\" class=\"dataframe\">\n",
       "  <thead>\n",
       "    <tr style=\"text-align: right;\">\n",
       "      <th></th>\n",
       "      <th>step</th>\n",
       "      <th>type</th>\n",
       "      <th>amount</th>\n",
       "      <th>oldbalanceOrg</th>\n",
       "      <th>newbalanceOrig</th>\n",
       "      <th>oldbalanceDest</th>\n",
       "      <th>newbalanceDest</th>\n",
       "      <th>isFraud</th>\n",
       "      <th>isFlaggedFraud</th>\n",
       "      <th>orig_type</th>\n",
       "      <th>dest_type</th>\n",
       "      <th>orig_balance_diff</th>\n",
       "      <th>dest_balance_diff</th>\n",
       "      <th>orig_no_change</th>\n",
       "      <th>dest_no_change</th>\n",
       "    </tr>\n",
       "  </thead>\n",
       "  <tbody>\n",
       "    <tr>\n",
       "      <th>0</th>\n",
       "      <td>1</td>\n",
       "      <td>PAYMENT</td>\n",
       "      <td>9839.64</td>\n",
       "      <td>170136.0</td>\n",
       "      <td>160296.36</td>\n",
       "      <td>0.0</td>\n",
       "      <td>0.0</td>\n",
       "      <td>0</td>\n",
       "      <td>0</td>\n",
       "      <td>C</td>\n",
       "      <td>M</td>\n",
       "      <td>9839.64</td>\n",
       "      <td>0.0</td>\n",
       "      <td>0</td>\n",
       "      <td>1</td>\n",
       "    </tr>\n",
       "    <tr>\n",
       "      <th>1</th>\n",
       "      <td>1</td>\n",
       "      <td>PAYMENT</td>\n",
       "      <td>1864.28</td>\n",
       "      <td>21249.0</td>\n",
       "      <td>19384.72</td>\n",
       "      <td>0.0</td>\n",
       "      <td>0.0</td>\n",
       "      <td>0</td>\n",
       "      <td>0</td>\n",
       "      <td>C</td>\n",
       "      <td>M</td>\n",
       "      <td>1864.28</td>\n",
       "      <td>0.0</td>\n",
       "      <td>0</td>\n",
       "      <td>1</td>\n",
       "    </tr>\n",
       "    <tr>\n",
       "      <th>2</th>\n",
       "      <td>1</td>\n",
       "      <td>TRANSFER</td>\n",
       "      <td>181.00</td>\n",
       "      <td>181.0</td>\n",
       "      <td>0.00</td>\n",
       "      <td>0.0</td>\n",
       "      <td>0.0</td>\n",
       "      <td>1</td>\n",
       "      <td>0</td>\n",
       "      <td>C</td>\n",
       "      <td>C</td>\n",
       "      <td>181.00</td>\n",
       "      <td>0.0</td>\n",
       "      <td>0</td>\n",
       "      <td>1</td>\n",
       "    </tr>\n",
       "    <tr>\n",
       "      <th>3</th>\n",
       "      <td>1</td>\n",
       "      <td>CASH_OUT</td>\n",
       "      <td>181.00</td>\n",
       "      <td>181.0</td>\n",
       "      <td>0.00</td>\n",
       "      <td>21182.0</td>\n",
       "      <td>0.0</td>\n",
       "      <td>1</td>\n",
       "      <td>0</td>\n",
       "      <td>C</td>\n",
       "      <td>C</td>\n",
       "      <td>181.00</td>\n",
       "      <td>-21182.0</td>\n",
       "      <td>0</td>\n",
       "      <td>0</td>\n",
       "    </tr>\n",
       "    <tr>\n",
       "      <th>4</th>\n",
       "      <td>1</td>\n",
       "      <td>PAYMENT</td>\n",
       "      <td>11668.14</td>\n",
       "      <td>41554.0</td>\n",
       "      <td>29885.86</td>\n",
       "      <td>0.0</td>\n",
       "      <td>0.0</td>\n",
       "      <td>0</td>\n",
       "      <td>0</td>\n",
       "      <td>C</td>\n",
       "      <td>M</td>\n",
       "      <td>11668.14</td>\n",
       "      <td>0.0</td>\n",
       "      <td>0</td>\n",
       "      <td>1</td>\n",
       "    </tr>\n",
       "  </tbody>\n",
       "</table>\n",
       "</div>"
      ],
      "text/plain": [
       "   step      type    amount  oldbalanceOrg  newbalanceOrig  oldbalanceDest  \\\n",
       "0     1   PAYMENT   9839.64       170136.0       160296.36             0.0   \n",
       "1     1   PAYMENT   1864.28        21249.0        19384.72             0.0   \n",
       "2     1  TRANSFER    181.00          181.0            0.00             0.0   \n",
       "3     1  CASH_OUT    181.00          181.0            0.00         21182.0   \n",
       "4     1   PAYMENT  11668.14        41554.0        29885.86             0.0   \n",
       "\n",
       "   newbalanceDest  isFraud  isFlaggedFraud orig_type dest_type  \\\n",
       "0             0.0        0               0         C         M   \n",
       "1             0.0        0               0         C         M   \n",
       "2             0.0        1               0         C         C   \n",
       "3             0.0        1               0         C         C   \n",
       "4             0.0        0               0         C         M   \n",
       "\n",
       "   orig_balance_diff  dest_balance_diff  orig_no_change  dest_no_change  \n",
       "0            9839.64                0.0               0               1  \n",
       "1            1864.28                0.0               0               1  \n",
       "2             181.00                0.0               0               1  \n",
       "3             181.00           -21182.0               0               0  \n",
       "4           11668.14                0.0               0               1  "
      ]
     },
     "execution_count": 3,
     "metadata": {},
     "output_type": "execute_result"
    }
   ],
   "source": [
    "df['orig_type'] = df['nameOrig'].str[0]\n",
    "df['dest_type'] = df['nameDest'].str[0]\n",
    "df['orig_balance_diff'] = df['oldbalanceOrg'] - df['newbalanceOrig']\n",
    "df['dest_balance_diff'] = df['newbalanceDest'] - df['oldbalanceDest']\n",
    "df['orig_no_change'] = ((df['amount']>0) & (df['orig_balance_diff']==0)).astype(int)\n",
    "df['dest_no_change'] = ((df['amount']>0) & (df['dest_balance_diff']==0)).astype(int)\n",
    "df = df.drop(columns=['nameOrig','nameDest'])\n",
    "\n",
    "df.head()\n",
    "# Expected: First 5 rows with new engineered columns\n"
   ]
  },
  {
   "cell_type": "markdown",
   "id": "91bbfe5a",
   "metadata": {},
   "source": [
    "## Step 4 – Prepare Features and Target"
   ]
  },
  {
   "cell_type": "code",
   "execution_count": 4,
   "id": "ae0ee943",
   "metadata": {},
   "outputs": [
    {
     "data": {
      "text/plain": [
       "((1000000, 14),\n",
       " isFraud\n",
       " 0    999465\n",
       " 1       535\n",
       " Name: count, dtype: int64)"
      ]
     },
     "execution_count": 4,
     "metadata": {},
     "output_type": "execute_result"
    }
   ],
   "source": [
    "X = df.drop(columns=['isFraud','isFlaggedFraud','step'])\n",
    "y = df['isFraud']\n",
    "\n",
    "X = pd.get_dummies(X, columns=['type','orig_type','dest_type'], drop_first=True)\n",
    "X = X.fillna(0)\n",
    "\n",
    "X.shape, y.value_counts()\n",
    "# Expected: shape of X and count of fraud(1)/non-fraud(0) cases\n"
   ]
  },
  {
   "cell_type": "markdown",
   "id": "b3da545a",
   "metadata": {},
   "source": [
    "## Step 5 – Train/Test Split + Handle Imbalance"
   ]
  },
  {
   "cell_type": "code",
   "execution_count": 5,
   "id": "43d2fc23",
   "metadata": {},
   "outputs": [
    {
     "data": {
      "text/plain": [
       "((1599144, 14), np.int64(799572), np.int64(428))"
      ]
     },
     "execution_count": 5,
     "metadata": {},
     "output_type": "execute_result"
    }
   ],
   "source": [
    "from sklearn.model_selection import train_test_split\n",
    "from imblearn.over_sampling import SMOTE\n",
    "\n",
    "X_train, X_test, y_train, y_test = train_test_split(\n",
    "    X, y, test_size=0.2, stratify=y, random_state=42\n",
    ")\n",
    "\n",
    "sm = SMOTE(random_state=42)\n",
    "X_res, y_res = sm.fit_resample(X_train, y_train)\n",
    "\n",
    "X_res.shape, y_res.sum(), y_train.sum()\n",
    "# Expected: balanced training set after SMOTE\n"
   ]
  },
  {
   "cell_type": "markdown",
   "id": "c99a5529",
   "metadata": {},
   "source": [
    "## Step 6 – Train LightGBM Model"
   ]
  },
  {
   "cell_type": "code",
   "execution_count": 6,
   "id": "dba80487",
   "metadata": {},
   "outputs": [
    {
     "name": "stderr",
     "output_type": "stream",
     "text": [
      "C:\\Users\\asus\\AppData\\Local\\Programs\\Python\\Python313\\Lib\\site-packages\\lightgbm\\engine.py:181: UserWarning: 'early_stopping_rounds' argument is deprecated and will be removed in a future release of LightGBM. Pass 'early_stopping()' callback via 'callbacks' argument instead.\n",
      "  _log_warning(\"'early_stopping_rounds' argument is deprecated and will be removed in a future release of LightGBM. \"\n",
      "C:\\Users\\asus\\AppData\\Local\\Programs\\Python\\Python313\\Lib\\site-packages\\lightgbm\\engine.py:239: UserWarning: 'verbose_eval' argument is deprecated and will be removed in a future release of LightGBM. Pass 'log_evaluation()' callback via 'callbacks' argument instead.\n",
      "  _log_warning(\"'verbose_eval' argument is deprecated and will be removed in a future release of LightGBM. \"\n"
     ]
    },
    {
     "name": "stdout",
     "output_type": "stream",
     "text": [
      "Training until validation scores don't improve for 50 rounds\n",
      "[50]\ttraining's auc: 0.999221\tvalid_1's auc: 0.987783\n",
      "Early stopping, best iteration is:\n",
      "[42]\ttraining's auc: 0.999136\tvalid_1's auc: 0.992766\n"
     ]
    }
   ],
   "source": [
    "import lightgbm as lgb\n",
    "\n",
    "params = {\n",
    "    'objective':'binary',\n",
    "    'metric':'auc',\n",
    "    'learning_rate':0.05,\n",
    "    'num_leaves':64,\n",
    "    'verbose':-1,\n",
    "    'seed':42\n",
    "}\n",
    "\n",
    "dtrain = lgb.Dataset(X_res, label=y_res)\n",
    "dvalid = lgb.Dataset(X_test, label=y_test, reference=dtrain)\n",
    "\n",
    "clf = lgb.train(\n",
    "    params, dtrain,\n",
    "    num_boost_round=1000,\n",
    "    valid_sets=[dtrain, dvalid],\n",
    "    early_stopping_rounds=50,\n",
    "    verbose_eval=50\n",
    ")\n",
    "# Expected: LightGBM training log with AUC values per iteration\n"
   ]
  },
  {
   "cell_type": "markdown",
   "id": "4c21bcd5",
   "metadata": {},
   "source": [
    "## Step 7 – Evaluate Model"
   ]
  },
  {
   "cell_type": "code",
   "execution_count": 7,
   "id": "b042fed7",
   "metadata": {},
   "outputs": [
    {
     "name": "stdout",
     "output_type": "stream",
     "text": [
      "ROC-AUC: 0.9927657090936175\n",
      "PR-AUC: 0.45945463425685984\n",
      "Confusion Matrix:\n",
      "[[197451   2442]\n",
      " [     4    103]]\n",
      "Classification Report:\n",
      "              precision    recall  f1-score   support\n",
      "\n",
      "           0       1.00      0.99      0.99    199893\n",
      "           1       0.04      0.96      0.08       107\n",
      "\n",
      "    accuracy                           0.99    200000\n",
      "   macro avg       0.52      0.98      0.54    200000\n",
      "weighted avg       1.00      0.99      0.99    200000\n",
      "\n"
     ]
    }
   ],
   "source": [
    "from sklearn.metrics import roc_auc_score, precision_recall_curve, classification_report, confusion_matrix, auc\n",
    "\n",
    "y_prob = clf.predict(X_test)\n",
    "y_pred = (y_prob >= 0.5).astype(int)\n",
    "\n",
    "roc = roc_auc_score(y_test, y_prob)\n",
    "precision, recall, _ = precision_recall_curve(y_test, y_prob)\n",
    "pr_auc = auc(recall, precision)\n",
    "\n",
    "print(\"ROC-AUC:\", roc)\n",
    "print(\"PR-AUC:\", pr_auc)\n",
    "print(\"Confusion Matrix:\")\n",
    "print(confusion_matrix(y_test, y_pred))\n",
    "print(\"Classification Report:\")\n",
    "print(classification_report(y_test, y_pred))\n",
    "\n",
    "# Expected: ROC-AUC ~0.98+, PR-AUC high, Confusion matrix with low false negatives, report with precision/recall for class 1\n"
   ]
  },
  {
   "cell_type": "markdown",
   "id": "381f71bd",
   "metadata": {},
   "source": [
    "## Step 8 – Top 10 Feature Importances"
   ]
  },
  {
   "cell_type": "code",
   "execution_count": 8,
   "id": "8505cd53",
   "metadata": {},
   "outputs": [
    {
     "data": {
      "text/html": [
       "<div>\n",
       "<style scoped>\n",
       "    .dataframe tbody tr th:only-of-type {\n",
       "        vertical-align: middle;\n",
       "    }\n",
       "\n",
       "    .dataframe tbody tr th {\n",
       "        vertical-align: top;\n",
       "    }\n",
       "\n",
       "    .dataframe thead th {\n",
       "        text-align: right;\n",
       "    }\n",
       "</style>\n",
       "<table border=\"1\" class=\"dataframe\">\n",
       "  <thead>\n",
       "    <tr style=\"text-align: right;\">\n",
       "      <th></th>\n",
       "      <th>feature</th>\n",
       "      <th>importance</th>\n",
       "    </tr>\n",
       "  </thead>\n",
       "  <tbody>\n",
       "    <tr>\n",
       "      <th>0</th>\n",
       "      <td>amount</td>\n",
       "      <td>493</td>\n",
       "    </tr>\n",
       "    <tr>\n",
       "      <th>1</th>\n",
       "      <td>newbalanceDest</td>\n",
       "      <td>440</td>\n",
       "    </tr>\n",
       "    <tr>\n",
       "      <th>2</th>\n",
       "      <td>oldbalanceDest</td>\n",
       "      <td>372</td>\n",
       "    </tr>\n",
       "    <tr>\n",
       "      <th>3</th>\n",
       "      <td>oldbalanceOrg</td>\n",
       "      <td>328</td>\n",
       "    </tr>\n",
       "    <tr>\n",
       "      <th>4</th>\n",
       "      <td>dest_balance_diff</td>\n",
       "      <td>306</td>\n",
       "    </tr>\n",
       "    <tr>\n",
       "      <th>5</th>\n",
       "      <td>orig_balance_diff</td>\n",
       "      <td>249</td>\n",
       "    </tr>\n",
       "    <tr>\n",
       "      <th>6</th>\n",
       "      <td>type_CASH_OUT</td>\n",
       "      <td>199</td>\n",
       "    </tr>\n",
       "    <tr>\n",
       "      <th>7</th>\n",
       "      <td>newbalanceOrig</td>\n",
       "      <td>112</td>\n",
       "    </tr>\n",
       "    <tr>\n",
       "      <th>8</th>\n",
       "      <td>type_TRANSFER</td>\n",
       "      <td>105</td>\n",
       "    </tr>\n",
       "    <tr>\n",
       "      <th>9</th>\n",
       "      <td>type_PAYMENT</td>\n",
       "      <td>27</td>\n",
       "    </tr>\n",
       "  </tbody>\n",
       "</table>\n",
       "</div>"
      ],
      "text/plain": [
       "             feature  importance\n",
       "0             amount         493\n",
       "1     newbalanceDest         440\n",
       "2     oldbalanceDest         372\n",
       "3      oldbalanceOrg         328\n",
       "4  dest_balance_diff         306\n",
       "5  orig_balance_diff         249\n",
       "6      type_CASH_OUT         199\n",
       "7     newbalanceOrig         112\n",
       "8      type_TRANSFER         105\n",
       "9       type_PAYMENT          27"
      ]
     },
     "execution_count": 8,
     "metadata": {},
     "output_type": "execute_result"
    }
   ],
   "source": [
    "imp = pd.DataFrame({'feature':clf.feature_name(), 'importance':clf.feature_importance()})\n",
    "imp = imp.sort_values('importance', ascending=False).reset_index(drop=True)\n",
    "imp.head(10)\n",
    "# Expected: table of top 10 features by importance\n"
   ]
  },
  {
   "cell_type": "markdown",
   "id": "46824d62",
   "metadata": {},
   "source": [
    "## Step 9 – Save Outputs (optional)"
   ]
  },
  {
   "cell_type": "code",
   "execution_count": 9,
   "id": "6a907558",
   "metadata": {},
   "outputs": [],
   "source": [
    "clf.save_model('lgbm_model.txt')\n",
    "imp.to_csv('feature_importance.csv', index=False)\n",
    "# Expected: files saved in notebook directory\n"
   ]
  }
 ],
 "metadata": {
  "kernelspec": {
   "display_name": "Python 3 (ipykernel)",
   "language": "python",
   "name": "python3"
  },
  "language_info": {
   "codemirror_mode": {
    "name": "ipython",
    "version": 3
   },
   "file_extension": ".py",
   "mimetype": "text/x-python",
   "name": "python",
   "nbconvert_exporter": "python",
   "pygments_lexer": "ipython3",
   "version": "3.13.3"
  }
 },
 "nbformat": 4,
 "nbformat_minor": 5
}
